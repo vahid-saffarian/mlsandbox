{
  "nbformat": 4,
  "nbformat_minor": 0,
  "metadata": {
    "colab": {
      "name": "ML Recipe #2.ipynb",
      "version": "0.3.2",
      "provenance": [],
      "include_colab_link": true
    },
    "kernelspec": {
      "name": "python3",
      "display_name": "Python 3"
    }
  },
  "cells": [
    {
      "cell_type": "markdown",
      "metadata": {
        "id": "view-in-github",
        "colab_type": "text"
      },
      "source": [
        "<a href=\"https://colab.research.google.com/github/vahid-saffarian/mlsandbox/blob/master/ML_Recipe_2.ipynb\" target=\"_parent\"><img src=\"https://colab.research.google.com/assets/colab-badge.svg\" alt=\"Open In Colab\"/></a>"
      ]
    },
    {
      "metadata": {
        "id": "eu0e2AfP2k4l",
        "colab_type": "code",
        "colab": {
          "base_uri": "https://localhost:8080/",
          "height": 85
        },
        "outputId": "357010aa-274a-4571-8b38-d72488267bbb"
      },
      "cell_type": "code",
      "source": [
        "import numpy as np\n",
        "from sklearn.datasets import load_iris\n",
        "from sklearn import tree\n",
        "\n",
        "iris = load_iris()\n",
        "iris_idx = [0, 50, 100]\n",
        "\n",
        "#train set\n",
        "train_target = np.delete(iris.target, iris_idx)\n",
        "train_data = np.delete(iris.data, iris_idx, axis = 0)\n",
        "\n",
        "#test set\n",
        "test_target = iris.target[iris_idx]\n",
        "test_data = iris.data[iris_idx]\n",
        "\n",
        "#traing the model\n",
        "clf = tree.DecisionTreeClassifier()\n",
        "clf.fit(train_data, train_target)\n",
        "\n",
        "#testing\n",
        "prediction = clf.predict(test_data)\n",
        "print(test_target)\n",
        "print(prediction)\n",
        "\n",
        "print(test_data[1], test_target[1])\n",
        "\n",
        "print(iris.feature_names, iris.target_names)\n",
        "\n"
      ],
      "execution_count": 40,
      "outputs": [
        {
          "output_type": "stream",
          "text": [
            "[0 1 2]\n",
            "[0 1 2]\n",
            "[7.  3.2 4.7 1.4] 1\n",
            "['sepal length (cm)', 'sepal width (cm)', 'petal length (cm)', 'petal width (cm)'] ['setosa' 'versicolor' 'virginica']\n"
          ],
          "name": "stdout"
        }
      ]
    }
  ]
}