{
  "nbformat": 4,
  "nbformat_minor": 0,
  "metadata": {
    "colab": {
      "name": "ML Recipe #4.ipynb",
      "version": "0.3.2",
      "provenance": [],
      "collapsed_sections": [],
      "include_colab_link": true
    },
    "kernelspec": {
      "name": "python3",
      "display_name": "Python 3"
    }
  },
  "cells": [
    {
      "cell_type": "markdown",
      "metadata": {
        "id": "view-in-github",
        "colab_type": "text"
      },
      "source": [
        "<a href=\"https://colab.research.google.com/github/vahid-saffarian/mlsandbox/blob/master/ML_Recipe_4.ipynb\" target=\"_parent\"><img src=\"https://colab.research.google.com/assets/colab-badge.svg\" alt=\"Open In Colab\"/></a>"
      ]
    },
    {
      "metadata": {
        "id": "4FFvOaSS2ptA",
        "colab_type": "code",
        "colab": {}
      },
      "cell_type": "code",
      "source": [
        "import numpy as np\n",
        "from sklearn import datasets\n",
        "iris = datasets.load_iris()\n",
        "\n",
        "X = iris.data\n",
        "y = iris.target"
      ],
      "execution_count": 0,
      "outputs": []
    },
    {
      "metadata": {
        "id": "vW4ALKK_3MtF",
        "colab_type": "code",
        "colab": {}
      },
      "cell_type": "code",
      "source": [
        "from sklearn.model_selection import train_test_split\n",
        "X_train, X_test, y_train, y_test = train_test_split(X, y, test_size = 0.5)"
      ],
      "execution_count": 0,
      "outputs": []
    },
    {
      "metadata": {
        "id": "66-hWLvH4MOl",
        "colab_type": "code",
        "colab": {
          "base_uri": "https://localhost:8080/",
          "height": 119
        },
        "outputId": "f006bf40-a555-44a3-ae36-4c4c4db35235"
      },
      "cell_type": "code",
      "source": [
        "from sklearn.neighbors import KNeighborsClassifier\n",
        "my_clf = KNeighborsClassifier()\n",
        "my_clf.fit(X_train, y_train)\n",
        "\n",
        "prediction = my_clf.predict(X_test)\n",
        "print(prediction)\n",
        "print(y_test)\n"
      ],
      "execution_count": 35,
      "outputs": [
        {
          "output_type": "stream",
          "text": [
            "[1 0 1 1 1 2 0 1 2 2 1 0 0 1 2 0 0 1 2 1 0 0 2 1 2 0 1 2 0 1 1 1 0 2 2 2 1\n",
            " 2 0 1 0 2 0 2 2 1 2 2 0 0 1 0 0 0 2 0 2 0 2 1 1 0 2 2 1 0 1 1 1 0 0 1 1 1\n",
            " 1]\n",
            "[1 0 1 1 1 2 0 1 2 2 1 0 0 1 2 0 0 1 2 2 0 0 1 1 1 0 2 2 0 1 1 2 0 2 2 2 1\n",
            " 2 0 1 0 2 0 2 2 1 2 2 0 0 1 0 0 0 2 0 2 0 2 1 1 0 2 2 2 0 1 1 1 0 0 1 1 1\n",
            " 1]\n"
          ],
          "name": "stdout"
        }
      ]
    },
    {
      "metadata": {
        "id": "YzhFAly1pmjd",
        "colab_type": "code",
        "colab": {
          "base_uri": "https://localhost:8080/",
          "height": 34
        },
        "outputId": "7e52bbc4-f29c-4b4c-c60f-aa188ebd3382"
      },
      "cell_type": "code",
      "source": [
        "from sklearn.metrics import accuracy_score\n",
        "print(accuracy_score(y_test, prediction))"
      ],
      "execution_count": 36,
      "outputs": [
        {
          "output_type": "stream",
          "text": [
            "0.92\n"
          ],
          "name": "stdout"
        }
      ]
    }
  ]
}