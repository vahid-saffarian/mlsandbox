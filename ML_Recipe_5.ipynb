{
  "nbformat": 4,
  "nbformat_minor": 0,
  "metadata": {
    "colab": {
      "name": "ML Recipe #5.ipynb",
      "version": "0.3.2",
      "provenance": [],
      "include_colab_link": true
    },
    "kernelspec": {
      "name": "python3",
      "display_name": "Python 3"
    }
  },
  "cells": [
    {
      "cell_type": "markdown",
      "metadata": {
        "id": "view-in-github",
        "colab_type": "text"
      },
      "source": [
        "<a href=\"https://colab.research.google.com/github/vahid-saffarian/mlsandbox/blob/master/ML_Recipe_5.ipynb\" target=\"_parent\"><img src=\"https://colab.research.google.com/assets/colab-badge.svg\" alt=\"Open In Colab\"/></a>"
      ]
    },
    {
      "metadata": {
        "id": "Q20eBYAAjFyr",
        "colab_type": "code",
        "colab": {}
      },
      "cell_type": "code",
      "source": [
        "import random\n",
        "import numpy as np\n",
        "from sklearn import datasets\n",
        "iris = datasets.load_iris()\n",
        "\n",
        "X = iris.data\n",
        "y = iris.target"
      ],
      "execution_count": 0,
      "outputs": []
    },
    {
      "metadata": {
        "id": "4qBzl0UVjaOy",
        "colab_type": "code",
        "colab": {}
      },
      "cell_type": "code",
      "source": [
        "from sklearn.model_selection import train_test_split\n",
        "X_train, X_test, y_train, y_test = train_test_split(X, y, test_size = 0.5)"
      ],
      "execution_count": 0,
      "outputs": []
    },
    {
      "metadata": {
        "id": "F09RE_hQmKxW",
        "colab_type": "code",
        "colab": {}
      },
      "cell_type": "code",
      "source": [
        "from scipy.spatial import distance\n",
        "\n",
        "def euc(a, b):\n",
        "  return distance.euclidean(a, b)"
      ],
      "execution_count": 0,
      "outputs": []
    },
    {
      "metadata": {
        "id": "5-0e3h6Mj5-v",
        "colab_type": "code",
        "colab": {}
      },
      "cell_type": "code",
      "source": [
        "class scrappyknn():\n",
        "  \n",
        "  def fit(self, X_train, y_train):\n",
        "    self.X_train = X_train\n",
        "    self.y_train = y_train\n",
        "  \n",
        "  def predict(self, X_test):\n",
        "    prediction = []\n",
        "    for row in X_test:\n",
        "      label = self.closest(row)\n",
        "      prediction.append(label)\n",
        "    return prediction\n",
        "  \n",
        "  def closest(self, row):\n",
        "    best_dist = euc(row, self.X_train[0])\n",
        "    best_idx = 0\n",
        "    for i in range(1, len(self.X_train)):\n",
        "      if euc(row, self.X_train[i]) < best_dist:\n",
        "        best_dist = euc(row, self.X_train[i])\n",
        "        best_idx = i\n",
        "    return self.y_train[best_idx]\n",
        "    \n",
        "    "
      ],
      "execution_count": 0,
      "outputs": []
    },
    {
      "metadata": {
        "id": "_fgeoSuwjdKd",
        "colab_type": "code",
        "colab": {
          "base_uri": "https://localhost:8080/",
          "height": 106
        },
        "outputId": "500f3931-99b7-424d-fd37-bfb32d084c35"
      },
      "cell_type": "code",
      "source": [
        "#from sklearn.neighbors import KNeighborsClassifier\n",
        "my_clf = scrappyknn()\n",
        "\n",
        "my_clf.fit(X_train, y_train)\n",
        "\n",
        "prediction = my_clf.predict(X_test)\n",
        "print(prediction)\n",
        "print(y_test)\n"
      ],
      "execution_count": 38,
      "outputs": [
        {
          "output_type": "stream",
          "text": [
            "[2, 1, 1, 0, 0, 0, 1, 2, 0, 1, 2, 0, 0, 2, 0, 2, 2, 1, 0, 0, 2, 2, 0, 2, 1, 1, 0, 1, 2, 1, 2, 0, 2, 1, 0, 0, 0, 2, 1, 2, 2, 0, 1, 1, 2, 0, 1, 2, 1, 2, 0, 2, 0, 2, 0, 0, 2, 1, 2, 1, 0, 0, 0, 0, 1, 1, 1, 2, 1, 1, 2, 0, 2, 2, 2]\n",
            "[2 1 1 0 0 0 2 2 0 1 2 0 0 2 0 2 2 1 0 0 2 2 0 2 1 1 0 1 2 1 2 0 2 1 0 0 0\n",
            " 2 1 2 2 0 1 1 2 0 1 2 1 2 0 2 0 1 0 0 2 1 2 1 0 0 0 0 1 1 1 2 2 1 2 0 2 2\n",
            " 2]\n"
          ],
          "name": "stdout"
        }
      ]
    },
    {
      "metadata": {
        "id": "KkKsYSJhjgYC",
        "colab_type": "code",
        "colab": {
          "base_uri": "https://localhost:8080/",
          "height": 35
        },
        "outputId": "3e269c18-1234-4f71-cfc8-bd21c0339664"
      },
      "cell_type": "code",
      "source": [
        "from sklearn.metrics import accuracy_score\n",
        "print(accuracy_score(y_test, prediction))"
      ],
      "execution_count": 39,
      "outputs": [
        {
          "output_type": "stream",
          "text": [
            "0.96\n"
          ],
          "name": "stdout"
        }
      ]
    }
  ]
}