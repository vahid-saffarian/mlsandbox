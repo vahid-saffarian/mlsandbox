{
  "nbformat": 4,
  "nbformat_minor": 0,
  "metadata": {
    "colab": {
      "name": "Ml Recipe #3.ipynb",
      "version": "0.3.2",
      "provenance": [],
      "include_colab_link": true
    },
    "kernelspec": {
      "name": "python3",
      "display_name": "Python 3"
    }
  },
  "cells": [
    {
      "cell_type": "markdown",
      "metadata": {
        "id": "view-in-github",
        "colab_type": "text"
      },
      "source": [
        "<a href=\"https://colab.research.google.com/github/vahid-saffarian/mlsandbox/blob/master/Ml_Recipe_3.ipynb\" target=\"_parent\"><img src=\"https://colab.research.google.com/assets/colab-badge.svg\" alt=\"Open In Colab\"/></a>"
      ]
    },
    {
      "metadata": {
        "id": "p2SVJla-CR7p",
        "colab_type": "code",
        "outputId": "b00bd3a6-43ed-4cbc-898a-b058116d6e3b",
        "colab": {
          "base_uri": "https://localhost:8080/",
          "height": 347
        }
      },
      "cell_type": "code",
      "source": [
        "import numpy as np\n",
        "import matplotlib.pyplot as plt\n",
        "\n",
        "greyhounds = 500\n",
        "labs = 500\n",
        "\n",
        "grey_height = 28 + 4 * np.random.randn(greyhounds)\n",
        "lab_height = 24 + 4 * np.random.randn(labs)\n",
        "\n",
        "plt.hist([grey_height, lab_height], stacked=True, color=['r', 'b'])\n",
        "plt.show()"
      ],
      "execution_count": 1,
      "outputs": [
        {
          "output_type": "display_data",
          "data": {
            "image/png": "[encoded data removed]",
            "text/plain": [
              "<Figure size 576x396 with 1 Axes>"
            ]
          },
          "metadata": {
            "tags": []
          }
        }
      ]
    },
    {
      "metadata": {
        "id": "k9CMlITGzRYO",
        "colab_type": "code",
        "colab": {
          "base_uri": "https://localhost:8080/",
          "height": 51
        },
        "outputId": "2012a17d-8ece-492e-f793-9ad2a9d2b603"
      },
      "cell_type": "code",
      "source": [
        "print(np.mean(grey_height))\n",
        "print(np.mean(lab_height))"
      ],
      "execution_count": 11,
      "outputs": [
        {
          "output_type": "stream",
          "text": [
            "27.861761938877436\n",
            "24.05202548797864\n"
          ],
          "name": "stdout"
        }
      ]
    }
  ]
}